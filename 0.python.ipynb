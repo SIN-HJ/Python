{
 "cells": [
  {
   "cell_type": "markdown",
   "metadata": {},
   "source": [
    "#### ■ 1.대화식 모드로 프로그래밍 하기\n",
    "* 파이썬을 실행하는 방법 2가지\n",
    "\n",
    "1. 대화식 모드<br>\n",
    ": 한라인 한라인씩 실행하는 모드<br>\n",
    ">ex)<br>\n",
    " a=110<br>\n",
    " b=220<br>\n",
    " a+b<br>\n",
    "330<br>\n",
    "\n",
    "2. 배치모드\n",
    ": 여러개의 스크립트로 작성해서 한번에 실행<br>\n",
    "\n",
    ">ex)<br>\n",
    "아래와 같이 스크립트를 적어주고<br>\n",
    "전체선택 한 후에 ctl+enter 로 실행하는것이 배치모드<br>\n",
    "\n",
    "![1234.JPG](c:\\git\\image)"
   ]
  }
 ],
 "metadata": {
  "kernelspec": {
   "display_name": "Python 3.8.5 ('base')",
   "language": "python",
   "name": "python3"
  },
  "language_info": {
   "name": "python",
   "version": "3.8.5"
  },
  "orig_nbformat": 4,
  "vscode": {
   "interpreter": {
    "hash": "ad2bdc8ecc057115af97d19610ffacc2b4e99fae6737bb82f5d7fb13d2f2c186"
   }
  }
 },
 "nbformat": 4,
 "nbformat_minor": 2
}
